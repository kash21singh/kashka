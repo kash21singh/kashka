{
  "metadata": {
    "kernelspec": {
      "name": "python",
      "display_name": "Python (Pyodide)",
      "language": "python"
    },
    "language_info": {
      "codemirror_mode": {
        "name": "python",
        "version": 3
      },
      "file_extension": ".py",
      "mimetype": "text/x-python",
      "name": "python",
      "nbconvert_exporter": "python",
      "pygments_lexer": "ipython3",
      "version": "3.8"
    }
  },
  "nbformat_minor": 4,
  "nbformat": 4,
  "cells": [
    {
      "cell_type": "code",
      "source": "import pandas as pd\nfrom sklearn.model_selection import train_test_split\nfrom sklearn.preprocessing import StandardScaler\nfrom sklearn.linear_model import LogisticRegression\nfrom sklearn.tree import DecisionTreeClassifier\nfrom sklearn.ensemble import RandomForestClassifier, GradientBoostingClassifier\nfrom sklearn.metrics import roc_auc_score, precision_score, recall_score,f1_score\nimport numpy as np\n\ndata = pd.read_csv('Task 3 and 4_Loan_Data.csv')\n\ndata.fillna(method='ffill', inplace=True)\n\nX = data.drop('default', axis=1)\ny = data['default']\n\nX_train, X_test, y_train, y_test = train_test_split(x, y, test_size=0.3, random_state=42)\n\nscaler = StandardScaler()\nX_train_scaled = scaler.fit_transform(X_train)\nX_test_scaled = scaler.transform(X_test)\n\nmodels = {\n    \"Logistic Regression\": LogisticRegression(),\n    \"Decision Tree\": DecisionTreeClassifier(),\n    \"Random Forest\": RandomForestClassifier(),\n    \"Gradient Boosting\": GradientBoostingClassifier()\n}\nmodel_performance = {}\n\nfor model_name, model in models.items():\n    model.fit(X_train_scaled, y_train)\n    y_pred = model.predict(X_test_scaled)\n    y_pred_proba = model.predict_proba(X_test_scaled)[:, 1]\n    auc = roc_auc_score(y_test, y_pred_proba)\n    precision = precision_score(y_test, y_pred)\n    recall = recall_score(y_test, y_pred)\n    f1 = f1_score(y_test, y_pred)\n    model_performance[model_name] = {\n        \"AUC\": auc,\n        \"Precision\": precision,\n        \"Recall\": recall,\n        \"F1-Score\": f1\n    }\n\n    best_model_name = max(model_performance, key=lambda X: model_performance[X]['AUC'])\n    best_model = models[best_model_name]\n\n    best_model.fit(scaler.fit_transform(x), y)\n\n    def expected_loss(borrower_details):\n        borrower_details_scaled = scaler.transform([borrower_details])\n        pd = best_model.predict_proba(borrower_details_scaled)[:, 1][0]\n        recovery_rate = 0.10\n        expected_loss_value = (1 - recovery_rate) * pd\n        return expected_loss_value\n\n    borrower_details = X.iloc[0].values\n    loss = expected_loss(borrower_details)\n    print(f\"Expected Loss: {loss}\")\n\n    print(\"Model Performance:\")\n    for model_name, metrics in model_performance.items():\n        print(f\"{model_name}: AUC={metrics['AUC']:.4f}, Precisiom={metrics['Precision']:.4f}, Recall={metrics['Recall']:.4f}, F1-Score={metrics['F1-Score']:.4f}\")\n\n    \n    \n    \n     ",
      "metadata": {
        "trusted": true
      },
      "outputs": [
        {
          "name": "stderr",
          "text": "/lib/python3.11/site-packages/sklearn/base.py:465: UserWarning: X does not have valid feature names, but StandardScaler was fitted with feature names\n  warnings.warn(\n",
          "output_type": "stream"
        },
        {
          "name": "stdout",
          "text": "Expected Loss: 2.9570209919527952e-12\nModel Performance:\nLogistic Regression: AUC=1.0000, Precisiom=0.9981, Recall=0.9852, F1-Score=0.9916\n",
          "output_type": "stream"
        },
        {
          "name": "stderr",
          "text": "/lib/python3.11/site-packages/sklearn/base.py:465: UserWarning: X does not have valid feature names, but StandardScaler was fitted with feature names\n  warnings.warn(\n",
          "output_type": "stream"
        },
        {
          "name": "stdout",
          "text": "Expected Loss: 2.9570209919527952e-12\nModel Performance:\nLogistic Regression: AUC=1.0000, Precisiom=0.9981, Recall=0.9852, F1-Score=0.9916\nDecision Tree: AUC=0.9918, Precisiom=0.9926, Recall=0.9852, F1-Score=0.9889\n",
          "output_type": "stream"
        },
        {
          "name": "stderr",
          "text": "/lib/python3.11/site-packages/sklearn/base.py:465: UserWarning: X does not have valid feature names, but StandardScaler was fitted with feature names\n  warnings.warn(\n",
          "output_type": "stream"
        },
        {
          "name": "stdout",
          "text": "Expected Loss: 2.9570209919527952e-12\nModel Performance:\nLogistic Regression: AUC=1.0000, Precisiom=0.9981, Recall=0.9852, F1-Score=0.9916\nDecision Tree: AUC=0.9918, Precisiom=0.9926, Recall=0.9852, F1-Score=0.9889\nRandom Forest: AUC=0.9998, Precisiom=0.9888, Recall=0.9815, F1-Score=0.9852\n",
          "output_type": "stream"
        },
        {
          "name": "stderr",
          "text": "/lib/python3.11/site-packages/sklearn/base.py:465: UserWarning: X does not have valid feature names, but StandardScaler was fitted with feature names\n  warnings.warn(\n",
          "output_type": "stream"
        },
        {
          "name": "stdout",
          "text": "Expected Loss: 2.9570209919527952e-12\nModel Performance:\nLogistic Regression: AUC=1.0000, Precisiom=0.9981, Recall=0.9852, F1-Score=0.9916\nDecision Tree: AUC=0.9918, Precisiom=0.9926, Recall=0.9852, F1-Score=0.9889\nRandom Forest: AUC=0.9998, Precisiom=0.9888, Recall=0.9815, F1-Score=0.9852\nGradient Boosting: AUC=0.9999, Precisiom=0.9944, Recall=0.9871, F1-Score=0.9907\n",
          "output_type": "stream"
        }
      ],
      "execution_count": 37
    },
    {
      "cell_type": "code",
      "source": "",
      "metadata": {
        "trusted": true
      },
      "outputs": [],
      "execution_count": null
    },
    {
      "cell_type": "code",
      "source": "",
      "metadata": {
        "trusted": true
      },
      "outputs": [],
      "execution_count": null
    }
  ]
}